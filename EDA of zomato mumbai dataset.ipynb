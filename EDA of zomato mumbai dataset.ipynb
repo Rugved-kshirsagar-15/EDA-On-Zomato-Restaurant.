{
 "cells": [
  {
   "cell_type": "code",
   "execution_count": 1,
   "id": "332a3e53",
   "metadata": {},
   "outputs": [],
   "source": [
    "#importing packages\n",
    "import pandas as pd\n",
    "from matplotlib import pyplot as plt\n",
    "import seaborn as sns\n",
    "import matplotlib.pyplot as plt\n",
    "\n",
    "%matplotlib inline\n"
   ]
  },
  {
   "cell_type": "code",
   "execution_count": 2,
   "id": "5856283c",
   "metadata": {},
   "outputs": [
    {
     "data": {
      "text/html": [
       "        <script type=\"text/javascript\">\n",
       "        window.PlotlyConfig = {MathJaxConfig: 'local'};\n",
       "        if (window.MathJax && window.MathJax.Hub && window.MathJax.Hub.Config) {window.MathJax.Hub.Config({SVG: {font: \"STIX-Web\"}});}\n",
       "        if (typeof require !== 'undefined') {\n",
       "        require.undef(\"plotly\");\n",
       "        requirejs.config({\n",
       "            paths: {\n",
       "                'plotly': ['https://cdn.plot.ly/plotly-2.24.1.min']\n",
       "            }\n",
       "        });\n",
       "        require(['plotly'], function(Plotly) {\n",
       "            window._Plotly = Plotly;\n",
       "        });\n",
       "        }\n",
       "        </script>\n",
       "        "
      ]
     },
     "metadata": {},
     "output_type": "display_data"
    },
    {
     "data": {
      "text/html": [
       "        <script type=\"text/javascript\">\n",
       "        window.PlotlyConfig = {MathJaxConfig: 'local'};\n",
       "        if (window.MathJax && window.MathJax.Hub && window.MathJax.Hub.Config) {window.MathJax.Hub.Config({SVG: {font: \"STIX-Web\"}});}\n",
       "        if (typeof require !== 'undefined') {\n",
       "        require.undef(\"plotly\");\n",
       "        requirejs.config({\n",
       "            paths: {\n",
       "                'plotly': ['https://cdn.plot.ly/plotly-2.24.1.min']\n",
       "            }\n",
       "        });\n",
       "        require(['plotly'], function(Plotly) {\n",
       "            window._Plotly = Plotly;\n",
       "        });\n",
       "        }\n",
       "        </script>\n",
       "        "
      ]
     },
     "metadata": {},
     "output_type": "display_data"
    }
   ],
   "source": [
    "#importing plotly Library\n",
    "from plotly.offline import iplot\n",
    "import plotly as py\n",
    "import plotly.tools as tls\n",
    "import cufflinks as cf\n",
    "py.offline.init_notebook_mode(connected=True) #Turning on notebook mode \n",
    "cf.go_offline()"
   ]
  },
  {
   "cell_type": "code",
   "execution_count": 3,
   "id": "4ded80a4",
   "metadata": {},
   "outputs": [
    {
     "data": {
      "text/html": [
       "<div>\n",
       "<style scoped>\n",
       "    .dataframe tbody tr th:only-of-type {\n",
       "        vertical-align: middle;\n",
       "    }\n",
       "\n",
       "    .dataframe tbody tr th {\n",
       "        vertical-align: top;\n",
       "    }\n",
       "\n",
       "    .dataframe thead th {\n",
       "        text-align: right;\n",
       "    }\n",
       "</style>\n",
       "<table border=\"1\" class=\"dataframe\">\n",
       "  <thead>\n",
       "    <tr style=\"text-align: right;\">\n",
       "      <th></th>\n",
       "      <th>NAME</th>\n",
       "      <th>PRICE</th>\n",
       "      <th>CUSINE_CATEGORY</th>\n",
       "      <th>CITY</th>\n",
       "      <th>REGION</th>\n",
       "      <th>URL</th>\n",
       "      <th>PAGE NO</th>\n",
       "      <th>CUSINE TYPE</th>\n",
       "      <th>TIMING</th>\n",
       "      <th>RATING_TYPE</th>\n",
       "      <th>RATING</th>\n",
       "      <th>VOTES</th>\n",
       "    </tr>\n",
       "  </thead>\n",
       "  <tbody>\n",
       "    <tr>\n",
       "      <th>0</th>\n",
       "      <td>Hitchki</td>\n",
       "      <td>1200</td>\n",
       "      <td>Modern Indian,North Indian,Chinese,Momos,Birya...</td>\n",
       "      <td>Mumbai</td>\n",
       "      <td>First International Financial Centre-- Bandra ...</td>\n",
       "      <td>https://www.zomato.com/mumbai/hitchki-bandra-k...</td>\n",
       "      <td>1</td>\n",
       "      <td>Casual Dining</td>\n",
       "      <td>12noon to 130am(Mon-Sun)</td>\n",
       "      <td>Excellent</td>\n",
       "      <td>4.9</td>\n",
       "      <td>3529</td>\n",
       "    </tr>\n",
       "    <tr>\n",
       "      <th>1</th>\n",
       "      <td>Baba Falooda</td>\n",
       "      <td>400</td>\n",
       "      <td>Desserts,Ice Cream,Beverages</td>\n",
       "      <td>Mumbai</td>\n",
       "      <td>Mahim</td>\n",
       "      <td>https://www.zomato.com/mumbai/baba-falooda-mah...</td>\n",
       "      <td>1</td>\n",
       "      <td>Dessert Parlor</td>\n",
       "      <td>2pm to 1am(Mon-Sun)</td>\n",
       "      <td>Very Good</td>\n",
       "      <td>4.4</td>\n",
       "      <td>1723</td>\n",
       "    </tr>\n",
       "    <tr>\n",
       "      <th>2</th>\n",
       "      <td>Chin Chin Chu</td>\n",
       "      <td>1800</td>\n",
       "      <td>Asian,Chinese</td>\n",
       "      <td>Mumbai</td>\n",
       "      <td>Juhu</td>\n",
       "      <td>https://www.zomato.com/mumbai/chin-chin-chu-ju...</td>\n",
       "      <td>1</td>\n",
       "      <td>Casual Dining</td>\n",
       "      <td>12noon to 1am(Mon-Sun)</td>\n",
       "      <td>Very Good</td>\n",
       "      <td>4.2</td>\n",
       "      <td>337</td>\n",
       "    </tr>\n",
       "    <tr>\n",
       "      <th>3</th>\n",
       "      <td>Butterfly High</td>\n",
       "      <td>1000</td>\n",
       "      <td>Modern Indian</td>\n",
       "      <td>Mumbai</td>\n",
       "      <td>Bandra Kurla Complex</td>\n",
       "      <td>https://www.zomato.com/mumbai/butterfly-high-b...</td>\n",
       "      <td>1</td>\n",
       "      <td>Bar</td>\n",
       "      <td>12noon to 130am(Mon-Sun)</td>\n",
       "      <td>Very Good</td>\n",
       "      <td>4.3</td>\n",
       "      <td>1200</td>\n",
       "    </tr>\n",
       "    <tr>\n",
       "      <th>4</th>\n",
       "      <td>BKC  DIVE</td>\n",
       "      <td>1200</td>\n",
       "      <td>North Indian,Chinese,Continental</td>\n",
       "      <td>Mumbai</td>\n",
       "      <td>Bandra Kurla Complex</td>\n",
       "      <td>https://www.zomato.com/mumbai/bkc-dive-bandra-...</td>\n",
       "      <td>1</td>\n",
       "      <td>Bar</td>\n",
       "      <td>1130am to 1am(Mon-Sun)</td>\n",
       "      <td>Veľmi dobré</td>\n",
       "      <td>4.4</td>\n",
       "      <td>5995</td>\n",
       "    </tr>\n",
       "  </tbody>\n",
       "</table>\n",
       "</div>"
      ],
      "text/plain": [
       "             NAME PRICE                                    CUSINE_CATEGORY  \\\n",
       "0         Hitchki  1200  Modern Indian,North Indian,Chinese,Momos,Birya...   \n",
       "1    Baba Falooda   400                       Desserts,Ice Cream,Beverages   \n",
       "2   Chin Chin Chu  1800                                      Asian,Chinese   \n",
       "3  Butterfly High  1000                                      Modern Indian   \n",
       "4       BKC  DIVE  1200                   North Indian,Chinese,Continental   \n",
       "\n",
       "     CITY                                             REGION  \\\n",
       "0  Mumbai  First International Financial Centre-- Bandra ...   \n",
       "1  Mumbai                                              Mahim   \n",
       "2  Mumbai                                               Juhu   \n",
       "3  Mumbai                               Bandra Kurla Complex   \n",
       "4  Mumbai                               Bandra Kurla Complex   \n",
       "\n",
       "                                                 URL PAGE NO     CUSINE TYPE  \\\n",
       "0  https://www.zomato.com/mumbai/hitchki-bandra-k...       1   Casual Dining   \n",
       "1  https://www.zomato.com/mumbai/baba-falooda-mah...       1  Dessert Parlor   \n",
       "2  https://www.zomato.com/mumbai/chin-chin-chu-ju...       1   Casual Dining   \n",
       "3  https://www.zomato.com/mumbai/butterfly-high-b...       1             Bar   \n",
       "4  https://www.zomato.com/mumbai/bkc-dive-bandra-...       1             Bar   \n",
       "\n",
       "                     TIMING  RATING_TYPE RATING VOTES  \n",
       "0  12noon to 130am(Mon-Sun)    Excellent    4.9  3529  \n",
       "1       2pm to 1am(Mon-Sun)    Very Good    4.4  1723  \n",
       "2    12noon to 1am(Mon-Sun)    Very Good    4.2   337  \n",
       "3  12noon to 130am(Mon-Sun)    Very Good    4.3  1200  \n",
       "4    1130am to 1am(Mon-Sun)  Veľmi dobré    4.4  5995  "
      ]
     },
     "execution_count": 3,
     "metadata": {},
     "output_type": "execute_result"
    }
   ],
   "source": [
    "#importing the datase\n",
    "\n",
    "df=pd.read_csv(r'MumbaiDataset.csv',delimiter='|')\n",
    "df.head()"
   ]
  },
  {
   "cell_type": "code",
   "execution_count": 4,
   "id": "c78bbf29",
   "metadata": {},
   "outputs": [
    {
     "data": {
      "text/plain": [
       "(15081, 12)"
      ]
     },
     "execution_count": 4,
     "metadata": {},
     "output_type": "execute_result"
    }
   ],
   "source": [
    "df.shape\n"
   ]
  },
  {
   "cell_type": "code",
   "execution_count": 5,
   "id": "debb4b43",
   "metadata": {},
   "outputs": [
    {
     "data": {
      "text/plain": [
       "<bound method DataFrame.info of                     NAME PRICE  \\\n",
       "0                Hitchki  1200   \n",
       "1           Baba Falooda   400   \n",
       "2          Chin Chin Chu  1800   \n",
       "3         Butterfly High  1000   \n",
       "4              BKC  DIVE  1200   \n",
       "...                  ...   ...   \n",
       "15076  Hari Om Snack Bar   350   \n",
       "15077           PitaBurg   400   \n",
       "15078     Uncha Otlawala   300   \n",
       "15079     Mandarin Panda   400   \n",
       "15080                  \u001a   NaN   \n",
       "\n",
       "                                         CUSINE_CATEGORY    CITY  \\\n",
       "0      Modern Indian,North Indian,Chinese,Momos,Birya...  Mumbai   \n",
       "1                           Desserts,Ice Cream,Beverages  Mumbai   \n",
       "2                                          Asian,Chinese  Mumbai   \n",
       "3                                          Modern Indian  Mumbai   \n",
       "4                       North Indian,Chinese,Continental  Mumbai   \n",
       "...                                                  ...     ...   \n",
       "15076                     Fast Food,South Indian,Chinese  Mumbai   \n",
       "15077                                 Fast Food,Lebanese  Mumbai   \n",
       "15078                                 Desserts,Ice Cream  Mumbai   \n",
       "15079                              Desserts,Chinese,Thai  Mumbai   \n",
       "15080                                                NaN     NaN   \n",
       "\n",
       "                                                  REGION  \\\n",
       "0      First International Financial Centre-- Bandra ...   \n",
       "1                                                  Mahim   \n",
       "2                                                   Juhu   \n",
       "3                                   Bandra Kurla Complex   \n",
       "4                                   Bandra Kurla Complex   \n",
       "...                                                  ...   \n",
       "15076                                     Kandivali West   \n",
       "15077                                        Lower Parel   \n",
       "15078                                     Kandivali West   \n",
       "15079                                         Malad West   \n",
       "15080                                                NaN   \n",
       "\n",
       "                                                     URL PAGE NO  \\\n",
       "0      https://www.zomato.com/mumbai/hitchki-bandra-k...       1   \n",
       "1      https://www.zomato.com/mumbai/baba-falooda-mah...       1   \n",
       "2      https://www.zomato.com/mumbai/chin-chin-chu-ju...       1   \n",
       "3      https://www.zomato.com/mumbai/butterfly-high-b...       1   \n",
       "4      https://www.zomato.com/mumbai/bkc-dive-bandra-...       1   \n",
       "...                                                  ...     ...   \n",
       "15076  https://www.zomato.com/mumbai/hari-om-snack-ba...      99   \n",
       "15077  https://www.zomato.com/mumbai/pitaburg-lower-p...      99   \n",
       "15078  https://www.zomato.com/mumbai/uncha-otlawala-1...      99   \n",
       "15079  https://www.zomato.com/mumbai/mandarin-panda-m...      99   \n",
       "15080                                                NaN     NaN   \n",
       "\n",
       "          CUSINE TYPE                                         TIMING  \\\n",
       "0       Casual Dining                       12noon to 130am(Mon-Sun)   \n",
       "1      Dessert Parlor                            2pm to 1am(Mon-Sun)   \n",
       "2       Casual Dining                         12noon to 1am(Mon-Sun)   \n",
       "3                 Bar                       12noon to 130am(Mon-Sun)   \n",
       "4                 Bar                         1130am to 1am(Mon-Sun)   \n",
       "...               ...                                            ...   \n",
       "15076     Quick Bites                         11am to 230am(Mon-Sun)   \n",
       "15077            none  11am to 11pm(Mon,Tue,Wed,Thu,Sun),11am to ...   \n",
       "15078  Dessert Parlor                         9am to 1230AM(Mon-Sun)   \n",
       "15079            none            12noon to 330pm,7pm to 1am(Mon-Sun)   \n",
       "15080             NaN                                            NaN   \n",
       "\n",
       "       RATING_TYPE RATING VOTES  \n",
       "0        Excellent    4.9  3529  \n",
       "1        Very Good    4.4  1723  \n",
       "2        Very Good    4.2   337  \n",
       "3        Very Good    4.3  1200  \n",
       "4      Veľmi dobré    4.4  5995  \n",
       "...            ...    ...   ...  \n",
       "15076         Good    3.7    64  \n",
       "15077      Average    3.4    99  \n",
       "15078         Good    3.5    29  \n",
       "15079         Good    3.7   121  \n",
       "15080          NaN    NaN   NaN  \n",
       "\n",
       "[15081 rows x 12 columns]>"
      ]
     },
     "execution_count": 5,
     "metadata": {},
     "output_type": "execute_result"
    }
   ],
   "source": [
    "#Initial memory usage\n",
    "df.info"
   ]
  },
  {
   "cell_type": "code",
   "execution_count": 6,
   "id": "3b4bd3e6",
   "metadata": {},
   "outputs": [],
   "source": [
    "df.drop(columns=['CITY','URL','PAGE NO','TIMING','VOTES'],inplace=True)"
   ]
  },
  {
   "cell_type": "code",
   "execution_count": 7,
   "id": "aa57756d",
   "metadata": {},
   "outputs": [
    {
     "data": {
      "text/plain": [
       "<bound method NDFrame.head of                     NAME PRICE  \\\n",
       "0                Hitchki  1200   \n",
       "1           Baba Falooda   400   \n",
       "2          Chin Chin Chu  1800   \n",
       "3         Butterfly High  1000   \n",
       "4              BKC  DIVE  1200   \n",
       "...                  ...   ...   \n",
       "15076  Hari Om Snack Bar   350   \n",
       "15077           PitaBurg   400   \n",
       "15078     Uncha Otlawala   300   \n",
       "15079     Mandarin Panda   400   \n",
       "15080                  \u001a   NaN   \n",
       "\n",
       "                                         CUSINE_CATEGORY  \\\n",
       "0      Modern Indian,North Indian,Chinese,Momos,Birya...   \n",
       "1                           Desserts,Ice Cream,Beverages   \n",
       "2                                          Asian,Chinese   \n",
       "3                                          Modern Indian   \n",
       "4                       North Indian,Chinese,Continental   \n",
       "...                                                  ...   \n",
       "15076                     Fast Food,South Indian,Chinese   \n",
       "15077                                 Fast Food,Lebanese   \n",
       "15078                                 Desserts,Ice Cream   \n",
       "15079                              Desserts,Chinese,Thai   \n",
       "15080                                                NaN   \n",
       "\n",
       "                                                  REGION     CUSINE TYPE  \\\n",
       "0      First International Financial Centre-- Bandra ...   Casual Dining   \n",
       "1                                                  Mahim  Dessert Parlor   \n",
       "2                                                   Juhu   Casual Dining   \n",
       "3                                   Bandra Kurla Complex             Bar   \n",
       "4                                   Bandra Kurla Complex             Bar   \n",
       "...                                                  ...             ...   \n",
       "15076                                     Kandivali West     Quick Bites   \n",
       "15077                                        Lower Parel            none   \n",
       "15078                                     Kandivali West  Dessert Parlor   \n",
       "15079                                         Malad West            none   \n",
       "15080                                                NaN             NaN   \n",
       "\n",
       "       RATING_TYPE RATING  \n",
       "0        Excellent    4.9  \n",
       "1        Very Good    4.4  \n",
       "2        Very Good    4.2  \n",
       "3        Very Good    4.3  \n",
       "4      Veľmi dobré    4.4  \n",
       "...            ...    ...  \n",
       "15076         Good    3.7  \n",
       "15077      Average    3.4  \n",
       "15078         Good    3.5  \n",
       "15079         Good    3.7  \n",
       "15080          NaN    NaN  \n",
       "\n",
       "[15081 rows x 7 columns]>"
      ]
     },
     "execution_count": 7,
     "metadata": {},
     "output_type": "execute_result"
    }
   ],
   "source": [
    "df.head"
   ]
  },
  {
   "cell_type": "code",
   "execution_count": 8,
   "id": "1e2b8c92",
   "metadata": {},
   "outputs": [
    {
     "data": {
      "text/plain": [
       "1256"
      ]
     },
     "execution_count": 8,
     "metadata": {},
     "output_type": "execute_result"
    }
   ],
   "source": [
    "# Duplicates values\n",
    "df.duplicated().sum()"
   ]
  },
  {
   "cell_type": "code",
   "execution_count": 9,
   "id": "1694ee1b",
   "metadata": {},
   "outputs": [],
   "source": [
    "df.drop_duplicates(inplace=True)"
   ]
  },
  {
   "cell_type": "code",
   "execution_count": 10,
   "id": "d56332e1",
   "metadata": {},
   "outputs": [
    {
     "name": "stderr",
     "output_type": "stream",
     "text": [
      "C:\\Users\\rugve\\AppData\\Local\\Temp\\ipykernel_11008\\1644345486.py:1: FutureWarning:\n",
      "\n",
      "In a future version of pandas all arguments of DataFrame.dropna will be keyword-only.\n",
      "\n"
     ]
    }
   ],
   "source": [
    "df.dropna(0,'any',inplace=True)"
   ]
  },
  {
   "cell_type": "code",
   "execution_count": 11,
   "id": "620e766e",
   "metadata": {},
   "outputs": [
    {
     "data": {
      "text/html": [
       "<div>\n",
       "<style scoped>\n",
       "    .dataframe tbody tr th:only-of-type {\n",
       "        vertical-align: middle;\n",
       "    }\n",
       "\n",
       "    .dataframe tbody tr th {\n",
       "        vertical-align: top;\n",
       "    }\n",
       "\n",
       "    .dataframe thead th {\n",
       "        text-align: right;\n",
       "    }\n",
       "</style>\n",
       "<table border=\"1\" class=\"dataframe\">\n",
       "  <thead>\n",
       "    <tr style=\"text-align: right;\">\n",
       "      <th></th>\n",
       "      <th>NAME</th>\n",
       "      <th>PRICE</th>\n",
       "      <th>CUSINE_CATEGORY</th>\n",
       "      <th>REGION</th>\n",
       "      <th>CUSINE TYPE</th>\n",
       "      <th>RATING_TYPE</th>\n",
       "      <th>RATING</th>\n",
       "    </tr>\n",
       "  </thead>\n",
       "  <tbody>\n",
       "    <tr>\n",
       "      <th>0</th>\n",
       "      <td>Hitchki</td>\n",
       "      <td>1200</td>\n",
       "      <td>Modern Indian,North Indian,Chinese,Momos,Birya...</td>\n",
       "      <td>First International Financial Centre-- Bandra ...</td>\n",
       "      <td>Casual Dining</td>\n",
       "      <td>Excellent</td>\n",
       "      <td>4.9</td>\n",
       "    </tr>\n",
       "    <tr>\n",
       "      <th>1</th>\n",
       "      <td>Baba Falooda</td>\n",
       "      <td>400</td>\n",
       "      <td>Desserts,Ice Cream,Beverages</td>\n",
       "      <td>Mahim</td>\n",
       "      <td>Dessert Parlor</td>\n",
       "      <td>Very Good</td>\n",
       "      <td>4.4</td>\n",
       "    </tr>\n",
       "    <tr>\n",
       "      <th>2</th>\n",
       "      <td>Chin Chin Chu</td>\n",
       "      <td>1800</td>\n",
       "      <td>Asian,Chinese</td>\n",
       "      <td>Juhu</td>\n",
       "      <td>Casual Dining</td>\n",
       "      <td>Very Good</td>\n",
       "      <td>4.2</td>\n",
       "    </tr>\n",
       "    <tr>\n",
       "      <th>3</th>\n",
       "      <td>Butterfly High</td>\n",
       "      <td>1000</td>\n",
       "      <td>Modern Indian</td>\n",
       "      <td>Bandra Kurla Complex</td>\n",
       "      <td>Bar</td>\n",
       "      <td>Very Good</td>\n",
       "      <td>4.3</td>\n",
       "    </tr>\n",
       "    <tr>\n",
       "      <th>4</th>\n",
       "      <td>BKC  DIVE</td>\n",
       "      <td>1200</td>\n",
       "      <td>North Indian,Chinese,Continental</td>\n",
       "      <td>Bandra Kurla Complex</td>\n",
       "      <td>Bar</td>\n",
       "      <td>Veľmi dobré</td>\n",
       "      <td>4.4</td>\n",
       "    </tr>\n",
       "  </tbody>\n",
       "</table>\n",
       "</div>"
      ],
      "text/plain": [
       "             NAME PRICE                                    CUSINE_CATEGORY  \\\n",
       "0         Hitchki  1200  Modern Indian,North Indian,Chinese,Momos,Birya...   \n",
       "1    Baba Falooda   400                       Desserts,Ice Cream,Beverages   \n",
       "2   Chin Chin Chu  1800                                      Asian,Chinese   \n",
       "3  Butterfly High  1000                                      Modern Indian   \n",
       "4       BKC  DIVE  1200                   North Indian,Chinese,Continental   \n",
       "\n",
       "                                              REGION     CUSINE TYPE  \\\n",
       "0  First International Financial Centre-- Bandra ...   Casual Dining   \n",
       "1                                              Mahim  Dessert Parlor   \n",
       "2                                               Juhu   Casual Dining   \n",
       "3                               Bandra Kurla Complex             Bar   \n",
       "4                               Bandra Kurla Complex             Bar   \n",
       "\n",
       "   RATING_TYPE RATING  \n",
       "0    Excellent    4.9  \n",
       "1    Very Good    4.4  \n",
       "2    Very Good    4.2  \n",
       "3    Very Good    4.3  \n",
       "4  Veľmi dobré    4.4  "
      ]
     },
     "execution_count": 11,
     "metadata": {},
     "output_type": "execute_result"
    }
   ],
   "source": [
    "df.head(5)"
   ]
  },
  {
   "cell_type": "code",
   "execution_count": 12,
   "id": "c9b2dff3",
   "metadata": {},
   "outputs": [
    {
     "data": {
      "text/plain": [
       "NAME               0\n",
       "PRICE              0\n",
       "CUSINE_CATEGORY    0\n",
       "REGION             0\n",
       "CUSINE TYPE        0\n",
       "RATING_TYPE        0\n",
       "RATING             0\n",
       "dtype: int64"
      ]
     },
     "execution_count": 12,
     "metadata": {},
     "output_type": "execute_result"
    }
   ],
   "source": [
    "#Checking if null values\n",
    "df.isnull().sum()"
   ]
  },
  {
   "cell_type": "code",
   "execution_count": 13,
   "id": "f8487bc3",
   "metadata": {},
   "outputs": [
    {
     "data": {
      "text/html": [
       "<div>\n",
       "<style scoped>\n",
       "    .dataframe tbody tr th:only-of-type {\n",
       "        vertical-align: middle;\n",
       "    }\n",
       "\n",
       "    .dataframe tbody tr th {\n",
       "        vertical-align: top;\n",
       "    }\n",
       "\n",
       "    .dataframe thead th {\n",
       "        text-align: right;\n",
       "    }\n",
       "</style>\n",
       "<table border=\"1\" class=\"dataframe\">\n",
       "  <thead>\n",
       "    <tr style=\"text-align: right;\">\n",
       "      <th></th>\n",
       "      <th>NAME</th>\n",
       "      <th>PRICE</th>\n",
       "      <th>CUISINE_CATEGORY</th>\n",
       "      <th>REGION</th>\n",
       "      <th>OUTLET_TYPE</th>\n",
       "      <th>REVIEWS</th>\n",
       "      <th>RATING</th>\n",
       "    </tr>\n",
       "  </thead>\n",
       "  <tbody>\n",
       "    <tr>\n",
       "      <th>0</th>\n",
       "      <td>Hitchki</td>\n",
       "      <td>1200</td>\n",
       "      <td>Modern Indian,North Indian,Chinese,Momos,Birya...</td>\n",
       "      <td>First International Financial Centre-- Bandra ...</td>\n",
       "      <td>Casual Dining</td>\n",
       "      <td>Excellent</td>\n",
       "      <td>4.9</td>\n",
       "    </tr>\n",
       "    <tr>\n",
       "      <th>1</th>\n",
       "      <td>Baba Falooda</td>\n",
       "      <td>400</td>\n",
       "      <td>Desserts,Ice Cream,Beverages</td>\n",
       "      <td>Mahim</td>\n",
       "      <td>Dessert Parlor</td>\n",
       "      <td>Very Good</td>\n",
       "      <td>4.4</td>\n",
       "    </tr>\n",
       "    <tr>\n",
       "      <th>2</th>\n",
       "      <td>Chin Chin Chu</td>\n",
       "      <td>1800</td>\n",
       "      <td>Asian,Chinese</td>\n",
       "      <td>Juhu</td>\n",
       "      <td>Casual Dining</td>\n",
       "      <td>Very Good</td>\n",
       "      <td>4.2</td>\n",
       "    </tr>\n",
       "    <tr>\n",
       "      <th>3</th>\n",
       "      <td>Butterfly High</td>\n",
       "      <td>1000</td>\n",
       "      <td>Modern Indian</td>\n",
       "      <td>Bandra Kurla Complex</td>\n",
       "      <td>Bar</td>\n",
       "      <td>Very Good</td>\n",
       "      <td>4.3</td>\n",
       "    </tr>\n",
       "    <tr>\n",
       "      <th>4</th>\n",
       "      <td>BKC  DIVE</td>\n",
       "      <td>1200</td>\n",
       "      <td>North Indian,Chinese,Continental</td>\n",
       "      <td>Bandra Kurla Complex</td>\n",
       "      <td>Bar</td>\n",
       "      <td>Veľmi dobré</td>\n",
       "      <td>4.4</td>\n",
       "    </tr>\n",
       "  </tbody>\n",
       "</table>\n",
       "</div>"
      ],
      "text/plain": [
       "             NAME PRICE                                   CUISINE_CATEGORY  \\\n",
       "0         Hitchki  1200  Modern Indian,North Indian,Chinese,Momos,Birya...   \n",
       "1    Baba Falooda   400                       Desserts,Ice Cream,Beverages   \n",
       "2   Chin Chin Chu  1800                                      Asian,Chinese   \n",
       "3  Butterfly High  1000                                      Modern Indian   \n",
       "4       BKC  DIVE  1200                   North Indian,Chinese,Continental   \n",
       "\n",
       "                                              REGION     OUTLET_TYPE  \\\n",
       "0  First International Financial Centre-- Bandra ...   Casual Dining   \n",
       "1                                              Mahim  Dessert Parlor   \n",
       "2                                               Juhu   Casual Dining   \n",
       "3                               Bandra Kurla Complex             Bar   \n",
       "4                               Bandra Kurla Complex             Bar   \n",
       "\n",
       "       REVIEWS RATING  \n",
       "0    Excellent    4.9  \n",
       "1    Very Good    4.4  \n",
       "2    Very Good    4.2  \n",
       "3    Very Good    4.3  \n",
       "4  Veľmi dobré    4.4  "
      ]
     },
     "execution_count": 13,
     "metadata": {},
     "output_type": "execute_result"
    }
   ],
   "source": [
    "#Rename columns\n",
    "df.rename({'CUSINE_CATEGORY' : 'CUISINE_CATEGORY', 'CUSINE TYPE' : 'OUTLET_TYPE', 'RATING_TYPE': 'REVIEWS'},axis=1, inplace=True)\n",
    "\n",
    "df.head()"
   ]
  },
  {
   "cell_type": "code",
   "execution_count": 14,
   "id": "25ac0c17",
   "metadata": {},
   "outputs": [
    {
     "data": {
      "text/plain": [
       "array(['4.9', '4.4', '4.2', '4.3', '4.5', '4.7', '4.0', '4.6', '4.1',\n",
       "       'RATING', '3.9', '3.8', '-', '3.6', 'NEW', '3.4', '3.0', '3.7',\n",
       "       '4.8', '3.3', '3.5', '3.2', '3.1', '2.7', '2.5', '2.8', '2.6',\n",
       "       '2.3', '2.9', '2.4', 'Opening', '2.1', '2.2', '1.8', '2.0'],\n",
       "      dtype=object)"
      ]
     },
     "execution_count": 14,
     "metadata": {},
     "output_type": "execute_result"
    }
   ],
   "source": [
    "df['RATING'].unique()"
   ]
  },
  {
   "cell_type": "code",
   "execution_count": 15,
   "id": "33f88226",
   "metadata": {},
   "outputs": [],
   "source": [
    "#Cleaning Rating column\n",
    "df['RATING'] = df.apply(lambda x: 0 if x['RATING'] in ['-','NEW','Opening','RATING'] else x['RATING'], axis=1)\n"
   ]
  },
  {
   "cell_type": "code",
   "execution_count": null,
   "id": "6ad74d7b",
   "metadata": {},
   "outputs": [],
   "source": []
  },
  {
   "cell_type": "code",
   "execution_count": 16,
   "id": "5c937dcd",
   "metadata": {},
   "outputs": [],
   "source": [
    "#Cleaning PRICE Column - 1\n",
    "df['PRICE'].replace(to_replace='PRICE' , value='0', inplace=True)"
   ]
  },
  {
   "cell_type": "code",
   "execution_count": 17,
   "id": "51668482",
   "metadata": {},
   "outputs": [
    {
     "data": {
      "text/plain": [
       "array(['1200', '400', '1800', '1000', '800', '1300', '1500', '600',\n",
       "       '1400', '1100', '0', '2000', '350', '900', '700', '500', '1600',\n",
       "       '150', '300', '550', '450', '650', '750', '250', '200', '850',\n",
       "       '100', '2500', '1450', '180', '950', '1700', '1900', '2600',\n",
       "       '2400', '3000', '1250', '3200', '505', '2200', '1050', '1650',\n",
       "       '1350', '50', '920', '1150', '1550', '3500', '398', '5000', '120',\n",
       "       '220', '160', '340', '5', '480', '2100', '580', '1850', '249',\n",
       "       '80', '2300', '360', '3502', '248', '2700'], dtype=object)"
      ]
     },
     "execution_count": 17,
     "metadata": {},
     "output_type": "execute_result"
    }
   ],
   "source": [
    "#Cleaning PRICE column\n",
    "df['PRICE'].unique()\n",
    "#already cleaned"
   ]
  },
  {
   "cell_type": "code",
   "execution_count": 18,
   "id": "45361b4a",
   "metadata": {},
   "outputs": [
    {
     "data": {
      "text/plain": [
       "array(['Excellent', 'Very Good', 'Veľmi dobré', 'RATING_TYPE', 'Good',\n",
       "       'Velmi dobré', 'Not rated', 'None', 'Average', 'Excelente',\n",
       "       'Muito Bom', 'Poor', 'Skvělá volba', 'Çok iyi', 'Baik',\n",
       "       'Bardzo dobrze', 'Bom', 'Média', 'Dobrze', 'Buono', 'İyi', 'Bueno',\n",
       "       'Ortalama', 'Skvělé', 'Biasa', 'Průměr', 'Sangat Baik', 'Priemer',\n",
       "       'Dobré', 'Promedio', 'Muy Bueno', 'Media'], dtype=object)"
      ]
     },
     "execution_count": 18,
     "metadata": {},
     "output_type": "execute_result"
    }
   ],
   "source": [
    "df['REVIEWS'].unique()"
   ]
  },
  {
   "cell_type": "code",
   "execution_count": 19,
   "id": "dee437bd",
   "metadata": {},
   "outputs": [
    {
     "data": {
      "text/plain": [
       "array(['Excellent', 'Very Good', 'RATING_TYPE', 'Good', 'Not rated',\n",
       "       'Not Rated', 'Average', 'Poor', 'Very Poor'], dtype=object)"
      ]
     },
     "execution_count": 19,
     "metadata": {},
     "output_type": "execute_result"
    }
   ],
   "source": [
    "#Cleaning REVIEWS column\n",
    "df['REVIEWS'].replace(to_replace='Excelente' , value='Excellent', inplace=True)\n",
    "df['REVIEWS'].replace(to_replace=['Veľmi dobré','Bardzo dobrze','Muy Bueno','Velmi dobré'] , value='Very Good', inplace=True)\n",
    "df['REVIEWS'].replace(to_replace=['Skvělá volba','Dobrze','Bueno','Buono','Dobré','Bom','Skvělé'] , value='Good', inplace=True)\n",
    "df['REVIEWS'].replace(to_replace=['Priemer','Média','Çok iyi'] , value='Average', inplace=True)\n",
    "df['REVIEWS'].replace(to_replace=['Průměr','Promedio','Ortalama','Muito Bom','İyi'] , value='Poor', inplace=True)\n",
    "df['REVIEWS'].replace(to_replace=['Baik','Biasa','Media','Sangat Baik'] , value='Very Poor', inplace=True)\n",
    "df['REVIEWS'].replace(to_replace=['None'] , value='Not Rated', inplace=True)\n",
    "df['REVIEWS'].unique()"
   ]
  },
  {
   "cell_type": "code",
   "execution_count": 20,
   "id": "7ff3ede6",
   "metadata": {},
   "outputs": [
    {
     "data": {
      "text/plain": [
       "array(['First International Financial Centre-- Bandra Kurla Complex',\n",
       "       'Mahim', 'Juhu', 'Bandra Kurla Complex', 'Flea Bazaar Café',\n",
       "       'Marol', 'Oshiwara-- Andheri West', 'Kamala Mills Compound',\n",
       "       'Dadar West', 'Khar', 'Lower Parel', 'Pali Hill-- Bandra West',\n",
       "       'REGION', 'Mumbai CST Area', 'Bhandup', 'Malad West', 'Powai',\n",
       "       'Chembur', 'Goregaon West', 'Andheri Lokhandwala-- Andheri West',\n",
       "       'Reclamation-- Bandra West', 'Vile Parle East',\n",
       "       'Palladium Mall-- Lower Parel', 'CBD-Belapur', 'Ghansoli',\n",
       "       'Borivali West', 'Near Andheri East Station', 'Vasai',\n",
       "       'Goregaon East', 'Castle Mill-- Thane West', 'Worli', 'Parel',\n",
       "       'Vasant Vihar-- Thane West', 'Colaba', 'Nariman Point',\n",
       "       'Naupada-- Thane West', 'Versova-- Andheri West', 'Santacruz East',\n",
       "       'Mulund West', 'Kandivali East', 'Panch Pakhadi-- Thane West',\n",
       "       'Mahakali', 'Airoli', 'Hill Road-- Bandra West', 'Mira Road',\n",
       "       'Fort', 'Ghodbunder Road', 'Jogeshwari', 'Vashi', 'Ghatkopar East',\n",
       "       'Sakinaka', 'Bandra East', '7 Bungalows-- Andheri West', 'Byculla',\n",
       "       'Kalyan', 'Bhayandar', 'Malad East', 'Kandivali West',\n",
       "       'Charni Road', 'Borivali East', 'Chandivali',\n",
       "       'Manpada-- Thane West', 'Kurla', 'Mohammad Ali Road',\n",
       "       'Carter Road-- Bandra West', 'Kharghar', 'Matunga East',\n",
       "       'Oberoi Mall-- Goregaon East', 'Dadar Shivaji Park', 'Azad Nagar',\n",
       "       'Galleria Shopping Centre-- Powai',\n",
       "       'Korum Mall-- Khopat-- Thane West', 'Bandra Talao-- Bandra West',\n",
       "       'Ulhasnagar', '4 Bungalows',\n",
       "       'Palms Water Business & Leisure Club-- Kalyan West',\n",
       "       'Kopar Khairane', 'Dahisar East', 'Owale-- Thane West',\n",
       "       'Haware Centurion Mall-- Seawoods', 'Mumbai Central',\n",
       "       'Phoenix Marketcity-- Kurla', 'Veera Desai Area', 'Chowpatty',\n",
       "       'Old Panvel', 'Sion', 'Tardeo', 'Ghatkopar West', 'Santacruz West',\n",
       "       'Upvan-- Thane West', 'Hotel Jewel of Chembur-- Chembur',\n",
       "       'Near Andheri West Station', 'Mazgaon', 'Prabhadevi',\n",
       "       'Vile Parle West', 'Sanpada', 'Virar', 'Girgaum', 'Mumbra',\n",
       "       'Marve', 'Kamothe', 'Chakala', 'Ulwe',\n",
       "       'High Street Phoenix-- Lower Parel', 'Inorbit Mall-- Vashi',\n",
       "       'Mulund East', 'Marine Lines', 'Mahalaxmi',\n",
       "       'Linking Road-- Bandra West', 'R Galleria-- Runwal Green',\n",
       "       'Kasarvadavli-- Thane West', 'Nalasopara', 'Kalwa', 'Nerul',\n",
       "       'R Odeon Mall-- Ghatkopar East', 'Hiranandani Estate-- Thane West',\n",
       "       'Dahisar West', 'Matunga West', 'Grant Road',\n",
       "       'Regenza By Tunga Hotels-- Vashi',\n",
       "       'The Gordon House Hotel-- Colaba', 'Breach Candy', 'New Panvel',\n",
       "       'Khopat-- Thane West', 'Majiwada-- Thane West', 'Churchgate',\n",
       "       'R City Mall-- Ghatkopar West', 'The Hub Mall-- Goregaon East',\n",
       "       'Hotel Royal Orchid-- Chembur',\n",
       "       'Viviana Mall-- Majiwada-- Thane West', 'Vikhroli', 'Kalbadevi',\n",
       "       'Rudra Shelter International-- Vasai', 'Dombivali East',\n",
       "       'Kemps Corner', 'Hotel Krishna Palace-- Grant Road',\n",
       "       'Malabar Hill', 'Turbhe', 'Svenska Design Hotel-- Andheri West',\n",
       "       'Marine Plaza-- Marine Lines',\n",
       "       'Hotel Sai Palace Grand-- Malad West',\n",
       "       'InterContinental-- Churchgate', 'Infiniti Mall-- Malad West',\n",
       "       'Kalamboli', 'Dadar East', 'Wadala', 'Dombivali West',\n",
       "       'Hotel Emerald-- Juhu', 'Alibaug', 'Hotel Sun n Sand-- Juhu',\n",
       "       'Hotel Shilpa-- Mulund West', 'Pallavi Avida-- Kalamboli',\n",
       "       'Wagle Estate-- Thane West', 'Thane East', 'Peddar Road',\n",
       "       'Bar Bank-- Juhu', 'Radha Krishna Hotel-- Ghatkopar West',\n",
       "       'Hotel Highway View-- Sanpada', 'Atria Mall-- Worli',\n",
       "       'VITS Hotel-- Marol', 'Boulevard Mall-- Majiwada-- Thane West',\n",
       "       'Yogi Midtown-- Turbhe', 'Centrium Mall-- Kandivali East',\n",
       "       'Royal Tulip-- Kharghar', 'Seawoods', 'Ambernath',\n",
       "       'Satra Plaza-- Vashi', 'The Paradise by Tunga-- Mahakali',\n",
       "       'Rodas Hotel-- Powai', 'Bandstand-- Bandra West',\n",
       "       'Hotel Yogi Metropolitan-- Sanpada',\n",
       "       \"Hotel King's International-- Juhu\",\n",
       "       'Hotel Yogi Executive-- Vashi', 'Sofitel-- Bandra Kurla Complex',\n",
       "       'Cooling Tower-- Goregaon East', 'Gorai',\n",
       "       'Comfort Inn Heritage-- Byculla', 'Metro Junction Mall-- Kalyan',\n",
       "       'Fortune Park Lakecity-- Majiwada', 'Citizen Hotel-- Juhu',\n",
       "       'Hotel Royal Inn-- Khar', 'Abbott Hotel-- Vashi', 'Sewri',\n",
       "       'Tunga International-- Mahakali',\n",
       "       'Seawoods Grand Central Mall-- Seawoods', 'Juhu Chowpatty-- Juhu',\n",
       "       'Hotel Centre Point-- CBD Belapur', 'Cuffe Parade',\n",
       "       'GCC Hotel & Club-- Mira Road',\n",
       "       'Juhu Residency Boutique Hotel-- Juhu', 'Girgaon Chowpatty',\n",
       "       'Orion Mall-- Panvel', 'Haiko Mall-- Powai',\n",
       "       'Fariyas Hotel-- Colaba', 'Xperia Mall-- Dombivali East',\n",
       "       'The Peninsula Grand Hotel-- Sakinaka',\n",
       "       'Inorbit Mall-- Malad West', 'Equinox Business Park-- Kurla',\n",
       "       'Dattani Square Mall-- Vasai', 'The Supremo-- Mahakali',\n",
       "       'Infiniti Mall-- Andheri Lokhandwala-- Andheri West',\n",
       "       'Thakur Mall-- Dahisar East',\n",
       "       'Hotel Risshi Residency-- Kopar Khairane',\n",
       "       'Hotel Jawahar-- Ulhasnagar', 'Rassaz Shopping Mall-- Mira Road',\n",
       "       'Grand Mookambika-- Kopar Khairane', 'The Lalit Mumbai-- Chakala',\n",
       "       'Hotel Sahil-- Mumbai Central', 'Holiday Inn-- Sakinaka',\n",
       "       'Annex Mall-- Borivali East', \"Growel's 101 Mall-- Kandivali East\",\n",
       "       'The Shalimar Hotel-- Kemps Corner',\n",
       "       'Trident-- Bandra Kurla Complex', 'Sea Princess-- Juhu',\n",
       "       'Aureole Hotel-- Andheri East',\n",
       "       'Royal Challenge Complex-- Goregaon', 'ITC Grand Central-- Parel',\n",
       "       'Devanshi Inn-- Kalamboli', 'R Mall-- Mulund West',\n",
       "       'CR2 Mall-- Nariman Point', 'Trombay',\n",
       "       'Raghuleela Mall-- Kandivali West',\n",
       "       'Kenilworth Mall-- Linking Road-- Bandra West',\n",
       "       'Maxus Mall-- Bhayandar', 'Hotel Heritage Supreme-- Vashi',\n",
       "       'Hotel Varishtta-- Kopar Khairane', 'K Star Mall-- Chembur',\n",
       "       'Hotel Mirador-- Andheri East', 'Raghuleela Mall-- Vashi',\n",
       "       'Ramee Guestline Hotel-- Dadar', 'Peninsula Redpine-- Marol',\n",
       "       'Big Shopping Centre-- Owale-- Thane West',\n",
       "       'Fun Republic Mall-- Veera Desai Area', 'Times Square-- Marol',\n",
       "       'Hypercity-- Malad West', 'De Mall-- Veera Desai Area',\n",
       "       'R Mall-- Majiwada-- Thane West', 'Little World Mall-- Kharghar',\n",
       "       'Le Sutra Hotel-- Khar', 'Orchard Mall-- Goregaon East',\n",
       "       'Hotel Satkar Residency-- Majiwada'], dtype=object)"
      ]
     },
     "execution_count": 20,
     "metadata": {},
     "output_type": "execute_result"
    }
   ],
   "source": [
    "df['REGION'].unique()"
   ]
  },
  {
   "cell_type": "code",
   "execution_count": 21,
   "id": "603e7e78",
   "metadata": {},
   "outputs": [],
   "source": [
    "#Cleaning REGION Column - 1\n",
    "df['REGION'] = df['REGION'].str.replace('[a-zA-Z].+-- ','',regex=True)\n",
    "df['REGION'] = df['REGION'].str.replace(' West| west| East| east','',regex=True)"
   ]
  },
  {
   "cell_type": "code",
   "execution_count": 22,
   "id": "0e3c7483",
   "metadata": {},
   "outputs": [
    {
     "data": {
      "text/plain": [
       "array(['Bandra Kurla Complex', 'Mahim', 'Juhu', 'Flea Bazaar Café',\n",
       "       'Marol', 'Andheri', 'Kamala Mills Compound', 'Dadar', 'Khar',\n",
       "       'Lower Parel', 'Bandra', 'REGION', 'Mumbai CST Area', 'Bhandup',\n",
       "       'Malad', 'Powai', 'Chembur', 'Goregaon', 'Vile Parle',\n",
       "       'CBD-Belapur', 'Ghansoli', 'Borivali', 'Near Andheri Station',\n",
       "       'Vasai', 'Thane', 'Worli', 'Parel', 'Colaba', 'Nariman Point',\n",
       "       'Santacruz', 'Mulund', 'Kandivali', 'Mahakali', 'Airoli',\n",
       "       'Mira Road', 'Fort', 'Ghodbunder Road', 'Jogeshwari', 'Vashi',\n",
       "       'Ghatkopar', 'Sakinaka', '7 Andheri', 'Byculla', 'Kalyan',\n",
       "       'Bhayandar', 'Charni Road', 'Chandivali', 'Kurla',\n",
       "       'Mohammad Ali Road', 'Kharghar', 'Matunga', 'Dadar Shivaji Park',\n",
       "       'Azad Nagar', 'Ulhasnagar', '4 Bungalows', 'Kopar Khairane',\n",
       "       'Dahisar', 'Seawoods', 'Mumbai Central', 'Veera Desai Area',\n",
       "       'Chowpatty', 'Old Panvel', 'Sion', 'Tardeo', 'Mazgaon',\n",
       "       'Prabhadevi', 'Sanpada', 'Virar', 'Girgaum', 'Mumbra', 'Marve',\n",
       "       'Kamothe', 'Chakala', 'Ulwe', 'Marine Lines', 'Mahalaxmi',\n",
       "       'Runwal Green', 'Nalasopara', 'Kalwa', 'Nerul', 'Grant Road',\n",
       "       'Breach Candy', 'New Panvel', 'Churchgate', 'Vikhroli',\n",
       "       'Kalbadevi', 'Dombivali', 'Kemps Corner', 'Malabar Hill', 'Turbhe',\n",
       "       'Kalamboli', 'Wadala', 'Alibaug', 'Peddar Road', 'Ambernath',\n",
       "       'Gorai', 'Majiwada', 'Sewri', 'CBD Belapur', 'Cuffe Parade',\n",
       "       'Girgaon Chowpatty', 'Panvel', 'Trombay'], dtype=object)"
      ]
     },
     "execution_count": 22,
     "metadata": {},
     "output_type": "execute_result"
    }
   ],
   "source": [
    "df['REGION'].unique()"
   ]
  },
  {
   "cell_type": "code",
   "execution_count": 23,
   "id": "b5fb1c13",
   "metadata": {},
   "outputs": [],
   "source": [
    "#Cleaning REGION column - 2, replacing with base region\n",
    "df['REGION'] = df['REGION'].str.replace('4 Bungalows|7 Andheri|Azad Nagar|Near Andheri Station|Veera Desai Area|Mahakali','Andheri',regex=True)\n",
    "df['REGION'] = df['REGION'].str.replace('Bandra Kurla Complex','Bandra',regex=True)\n",
    "df['REGION'] = df['REGION'].str.replace('CBD-Belapur','CBD Belapur',regex=True)\n",
    "df['REGION'] = df['REGION'].str.replace('Girgaon Chowpatty','Chowpatty',regex=True)\n",
    "df['REGION'] = df['REGION'].str.replace('Dadar Shivaji Park','Dadar',regex=True)\n",
    "df['REGION'] = df['REGION'].str.replace('Flea Bazaar Café|Kamala Mills Compound','Lower Parel',regex=True)\n",
    "df['REGION'] = df['REGION'].str.replace('Runwal Green','Mulund',regex=True)\n",
    "df['REGION'] = df['REGION'].str.replace('Mumbai CST Area','Mumbai Central',regex=True)\n",
    "df['REGION'] = df['REGION'].str.replace('Kopar Khairane|Seawoods|Turbhe|Ulwe','Navi Mumbai',regex=True)\n",
    "df['REGION'] = df['REGION'].str.replace('New Panvel|Old Panvel','Panvel',regex=True)\n",
    "df['REGION'] = df['REGION'].str.replace('Kamothe','Sion',regex=True)\n",
    "df['REGION'] = df['REGION'].str.replace('Ghodbunder Road|Majiwada','Thane',regex=True)"
   ]
  },
  {
   "cell_type": "code",
   "execution_count": 24,
   "id": "1ad4f6c1",
   "metadata": {},
   "outputs": [
    {
     "data": {
      "text/plain": [
       "array(['Bandra', 'Mahim', 'Juhu', 'Lower Parel', 'Marol', 'Andheri',\n",
       "       'Dadar', 'Khar', 'REGION', 'Mumbai Central', 'Bhandup', 'Malad',\n",
       "       'Powai', 'Chembur', 'Goregaon', 'Vile Parle', 'CBD Belapur',\n",
       "       'Ghansoli', 'Borivali', 'Vasai', 'Thane', 'Worli', 'Parel',\n",
       "       'Colaba', 'Nariman Point', 'Santacruz', 'Mulund', 'Kandivali',\n",
       "       'Airoli', 'Mira Road', 'Fort', 'Jogeshwari', 'Vashi', 'Ghatkopar',\n",
       "       'Sakinaka', 'Byculla', 'Kalyan', 'Bhayandar', 'Charni Road',\n",
       "       'Chandivali', 'Kurla', 'Mohammad Ali Road', 'Kharghar', 'Matunga',\n",
       "       'Ulhasnagar', 'Navi Mumbai', 'Dahisar', 'Chowpatty', 'Panvel',\n",
       "       'Sion', 'Tardeo', 'Mazgaon', 'Prabhadevi', 'Sanpada', 'Virar',\n",
       "       'Girgaum', 'Mumbra', 'Marve', 'Chakala', 'Marine Lines',\n",
       "       'Mahalaxmi', 'Nalasopara', 'Kalwa', 'Nerul', 'Grant Road',\n",
       "       'Breach Candy', 'Churchgate', 'Vikhroli', 'Kalbadevi', 'Dombivali',\n",
       "       'Kemps Corner', 'Malabar Hill', 'Kalamboli', 'Wadala', 'Alibaug',\n",
       "       'Peddar Road', 'Ambernath', 'Gorai', 'Sewri', 'Cuffe Parade',\n",
       "       'Trombay'], dtype=object)"
      ]
     },
     "execution_count": 24,
     "metadata": {},
     "output_type": "execute_result"
    }
   ],
   "source": [
    "df['REGION'].unique()"
   ]
  },
  {
   "cell_type": "code",
   "execution_count": 25,
   "id": "6f8da6b4",
   "metadata": {},
   "outputs": [
    {
     "data": {
      "text/plain": [
       "NAME                0\n",
       "PRICE               0\n",
       "CUISINE_CATEGORY    0\n",
       "REGION              0\n",
       "OUTLET_TYPE         0\n",
       "REVIEWS             0\n",
       "RATING              0\n",
       "dtype: int64"
      ]
     },
     "execution_count": 25,
     "metadata": {},
     "output_type": "execute_result"
    }
   ],
   "source": [
    "#Checking if null values\n",
    "df.isnull().sum()"
   ]
  },
  {
   "cell_type": "code",
   "execution_count": 26,
   "id": "f84c8497",
   "metadata": {},
   "outputs": [],
   "source": [
    "#Change datatypes of columns\n",
    "df = df.astype({'NAME':str, 'PRICE':int, 'CUISINE_CATEGORY':str, 'OUTLET_TYPE':'category','REVIEWS':'category', 'RATING':float})\n"
   ]
  },
  {
   "cell_type": "code",
   "execution_count": 27,
   "id": "d52b3825",
   "metadata": {},
   "outputs": [
    {
     "name": "stdout",
     "output_type": "stream",
     "text": [
      "<class 'pandas.core.frame.DataFrame'>\n",
      "Int64Index: 13823 entries, 0 to 15079\n",
      "Columns: 7 entries, NAME to RATING\n",
      "dtypes: category(2), float64(1), int32(1), object(3)\n",
      "memory usage: 622.0+ KB\n"
     ]
    }
   ],
   "source": [
    "df.info(verbose=False)"
   ]
  },
  {
   "cell_type": "code",
   "execution_count": 28,
   "id": "7bb8b5af",
   "metadata": {},
   "outputs": [
    {
     "data": {
      "text/plain": [
       "0-500        9759\n",
       "500-1000     3449\n",
       "1000-3000     582\n",
       "3000-5000       4\n",
       "Name: PRICE, dtype: int64"
      ]
     },
     "execution_count": 28,
     "metadata": {},
     "output_type": "execute_result"
    }
   ],
   "source": [
    "#Finding price ranges for restaurants\n",
    "df['PRICE'] = pd.cut(df['PRICE'], [0,500,1000,3000,5000], labels=['0-500','500-1000','1000-3000','3000-5000'])\n",
    "df['PRICE'].value_counts()"
   ]
  },
  {
   "cell_type": "code",
   "execution_count": 1,
   "id": "7eeebe4a",
   "metadata": {},
   "outputs": [
    {
     "ename": "NameError",
     "evalue": "name 'df' is not defined",
     "output_type": "error",
     "traceback": [
      "\u001b[1;31m---------------------------------------------------------------------------\u001b[0m",
      "\u001b[1;31mNameError\u001b[0m                                 Traceback (most recent call last)",
      "Cell \u001b[1;32mIn[1], line 1\u001b[0m\n\u001b[1;32m----> 1\u001b[0m \u001b[43mdf\u001b[49m\u001b[38;5;241m.\u001b[39mNAME\u001b[38;5;241m.\u001b[39mvalue_counts()\u001b[38;5;241m.\u001b[39mhead(\u001b[38;5;241m30\u001b[39m)\u001b[38;5;241m.\u001b[39miplot(kind\u001b[38;5;241m=\u001b[39m\u001b[38;5;124m\"\u001b[39m\u001b[38;5;124mbar\u001b[39m\u001b[38;5;124m\"\u001b[39m)\n",
      "\u001b[1;31mNameError\u001b[0m: name 'df' is not defined"
     ]
    }
   ],
   "source": [
    "df.NAME.value_counts().head(30).iplot(kind=\"bar\")"
   ]
  },
  {
   "cell_type": "code",
   "execution_count": 30,
   "id": "0eb080ef",
   "metadata": {},
   "outputs": [
    {
     "data": {
      "image/png": "[encoded data removed]",
      "text/plain": [
       "<Figure size 1000x400 with 1 Axes>"
      ]
     },
     "metadata": {},
     "output_type": "display_data"
    }
   ],
   "source": [
    "#Plotting Graph between no. of restaurant and price range\n",
    "x = df['PRICE'].value_counts().index\n",
    "y = df['PRICE'].value_counts().values\n",
    "plt.figure(figsize=(10, 4))\n",
    "plt.barh(x,y)\n",
    "plt.title(\"No of restaurants in Price Range\")\n",
    "plt.xlabel(\"Price Range\")\n",
    "plt.ylabel(\"No of restaurants\")\n",
    "for index, value in enumerate(y):\n",
    "    plt.text(value, index, str(value))\n",
    "plt.show()"
   ]
  },
  {
   "cell_type": "code",
   "execution_count": 35,
   "id": "8bc2bfef",
   "metadata": {},
   "outputs": [
    {
     "data": {
      "text/plain": [
       "Medium    8075\n",
       "Low       1629\n",
       "High       841\n",
       "Name: RATING, dtype: int64"
      ]
     },
     "execution_count": 35,
     "metadata": {},
     "output_type": "execute_result"
    }
   ],
   "source": [
    "#Grouping Rating in three categories\n",
    "df['RATING'] = pd.cut(df['RATING'], [2,3,4,5], labels=['Low','Medium','High'])\n",
    "df['RATING'].value_counts()"
   ]
  },
  {
   "cell_type": "code",
   "execution_count": 33,
   "id": "39823c40",
   "metadata": {},
   "outputs": [
    {
     "data": {
      "application/vnd.plotly.v1+json": {
       "config": {
        "linkText": "Export to plot.ly",
        "plotlyServerURL": "https://plot.ly",
        "showLink": true
       },
       "data": [
        {
         "marker": {
          "color": "rgba(255, 153, 51, 0.6)",
          "line": {
           "color": "rgba(255, 153, 51, 1.0)",
           "width": 1
          }
         },
         "name": "RATING",
         "orientation": "v",
         "text": "",
         "type": "bar",
         "x": [
          0,
          3.5,
          3.4,
          3.6,
          3.7,
          3.3,
          3.2,
          3.8,
          3.1,
          3,
          3.9,
          4,
          2.9,
          4.1,
          2.8,
          4.2,
          2.7,
          4.3,
          4.4,
          2.6,
          4.5,
          2.5,
          4.6,
          2.4,
          4.7,
          2.3,
          2.1,
          2.2,
          4.8,
          4.9
         ],
         "y": [
          3276,
          1063,
          1015,
          938,
          898,
          892,
          783,
          775,
          716,
          606,
          590,
          405,
          402,
          298,
          298,
          199,
          168,
          148,
          99,
          74,
          46,
          37,
          32,
          25,
          13,
          10,
          5,
          4,
          4,
          2
         ]
        }
       ],
       "layout": {
        "legend": {
         "bgcolor": "#F5F6F9",
         "font": {
          "color": "#4D5663"
         }
        },
        "paper_bgcolor": "#F5F6F9",
        "plot_bgcolor": "#F5F6F9",
        "template": {
         "data": {
          "bar": [
           {
            "error_x": {
             "color": "#2a3f5f"
            },
            "error_y": {
             "color": "#2a3f5f"
            },
            "marker": {
             "line": {
              "color": "#E5ECF6",
              "width": 0.5
             },
             "pattern": {
              "fillmode": "overlay",
              "size": 10,
              "solidity": 0.2
             }
            },
            "type": "bar"
           }
          ],
          "barpolar": [
           {
            "marker": {
             "line": {
              "color": "#E5ECF6",
              "width": 0.5
             },
             "pattern": {
              "fillmode": "overlay",
              "size": 10,
              "solidity": 0.2
             }
            },
            "type": "barpolar"
           }
          ],
          "carpet": [
           {
            "aaxis": {
             "endlinecolor": "#2a3f5f",
             "gridcolor": "white",
             "linecolor": "white",
             "minorgridcolor": "white",
             "startlinecolor": "#2a3f5f"
            },
            "baxis": {
             "endlinecolor": "#2a3f5f",
             "gridcolor": "white",
             "linecolor": "white",
             "minorgridcolor": "white",
             "startlinecolor": "#2a3f5f"
            },
            "type": "carpet"
           }
          ],
          "choropleth": [
           {
            "colorbar": {
             "outlinewidth": 0,
             "ticks": ""
            },
            "type": "choropleth"
           }
          ],
          "contour": [
           {
            "colorbar": {
             "outlinewidth": 0,
             "ticks": ""
            },
            "colorscale": [
             [
              0,
              "#0d0887"
             ],
             [
              0.1111111111111111,
              "#46039f"
             ],
             [
              0.2222222222222222,
              "#7201a8"
             ],
             [
              0.3333333333333333,
              "#9c179e"
             ],
             [
              0.4444444444444444,
              "#bd3786"
             ],
             [
              0.5555555555555556,
              "#d8576b"
             ],
             [
              0.6666666666666666,
              "#ed7953"
             ],
             [
              0.7777777777777778,
              "#fb9f3a"
             ],
             [
              0.8888888888888888,
              "#fdca26"
             ],
             [
              1,
              "#f0f921"
             ]
            ],
            "type": "contour"
           }
          ],
          "contourcarpet": [
           {
            "colorbar": {
             "outlinewidth": 0,
             "ticks": ""
            },
            "type": "contourcarpet"
           }
          ],
          "heatmap": [
           {
            "colorbar": {
             "outlinewidth": 0,
             "ticks": ""
            },
            "colorscale": [
             [
              0,
              "#0d0887"
             ],
             [
              0.1111111111111111,
              "#46039f"
             ],
             [
              0.2222222222222222,
              "#7201a8"
             ],
             [
              0.3333333333333333,
              "#9c179e"
             ],
             [
              0.4444444444444444,
              "#bd3786"
             ],
             [
              0.5555555555555556,
              "#d8576b"
             ],
             [
              0.6666666666666666,
              "#ed7953"
             ],
             [
              0.7777777777777778,
              "#fb9f3a"
             ],
             [
              0.8888888888888888,
              "#fdca26"
             ],
             [
              1,
              "#f0f921"
             ]
            ],
            "type": "heatmap"
           }
          ],
          "heatmapgl": [
           {
            "colorbar": {
             "outlinewidth": 0,
             "ticks": ""
            },
            "colorscale": [
             [
              0,
              "#0d0887"
             ],
             [
              0.1111111111111111,
              "#46039f"
             ],
             [
              0.2222222222222222,
              "#7201a8"
             ],
             [
              0.3333333333333333,
              "#9c179e"
             ],
             [
              0.4444444444444444,
              "#bd3786"
             ],
             [
              0.5555555555555556,
              "#d8576b"
             ],
             [
              0.6666666666666666,
              "#ed7953"
             ],
             [
              0.7777777777777778,
              "#fb9f3a"
             ],
             [
              0.8888888888888888,
              "#fdca26"
             ],
             [
              1,
              "#f0f921"
             ]
            ],
            "type": "heatmapgl"
           }
          ],
          "histogram": [
           {
            "marker": {
             "pattern": {
              "fillmode": "overlay",
              "size": 10,
              "solidity": 0.2
             }
            },
            "type": "histogram"
           }
          ],
          "histogram2d": [
           {
            "colorbar": {
             "outlinewidth": 0,
             "ticks": ""
            },
            "colorscale": [
             [
              0,
              "#0d0887"
             ],
             [
              0.1111111111111111,
              "#46039f"
             ],
             [
              0.2222222222222222,
              "#7201a8"
             ],
             [
              0.3333333333333333,
              "#9c179e"
             ],
             [
              0.4444444444444444,
              "#bd3786"
             ],
             [
              0.5555555555555556,
              "#d8576b"
             ],
             [
              0.6666666666666666,
              "#ed7953"
             ],
             [
              0.7777777777777778,
              "#fb9f3a"
             ],
             [
              0.8888888888888888,
              "#fdca26"
             ],
             [
              1,
              "#f0f921"
             ]
            ],
            "type": "histogram2d"
           }
          ],
          "histogram2dcontour": [
           {
            "colorbar": {
             "outlinewidth": 0,
             "ticks": ""
            },
            "colorscale": [
             [
              0,
              "#0d0887"
             ],
             [
              0.1111111111111111,
              "#46039f"
             ],
             [
              0.2222222222222222,
              "#7201a8"
             ],
             [
              0.3333333333333333,
              "#9c179e"
             ],
             [
              0.4444444444444444,
              "#bd3786"
             ],
             [
              0.5555555555555556,
              "#d8576b"
             ],
             [
              0.6666666666666666,
              "#ed7953"
             ],
             [
              0.7777777777777778,
              "#fb9f3a"
             ],
             [
              0.8888888888888888,
              "#fdca26"
             ],
             [
              1,
              "#f0f921"
             ]
            ],
            "type": "histogram2dcontour"
           }
          ],
          "mesh3d": [
           {
            "colorbar": {
             "outlinewidth": 0,
             "ticks": ""
            },
            "type": "mesh3d"
           }
          ],
          "parcoords": [
           {
            "line": {
             "colorbar": {
              "outlinewidth": 0,
              "ticks": ""
             }
            },
            "type": "parcoords"
           }
          ],
          "pie": [
           {
            "automargin": true,
            "type": "pie"
           }
          ],
          "scatter": [
           {
            "fillpattern": {
             "fillmode": "overlay",
             "size": 10,
             "solidity": 0.2
            },
            "type": "scatter"
           }
          ],
          "scatter3d": [
           {
            "line": {
             "colorbar": {
              "outlinewidth": 0,
              "ticks": ""
             }
            },
            "marker": {
             "colorbar": {
              "outlinewidth": 0,
              "ticks": ""
             }
            },
            "type": "scatter3d"
           }
          ],
          "scattercarpet": [
           {
            "marker": {
             "colorbar": {
              "outlinewidth": 0,
              "ticks": ""
             }
            },
            "type": "scattercarpet"
           }
          ],
          "scattergeo": [
           {
            "marker": {
             "colorbar": {
              "outlinewidth": 0,
              "ticks": ""
             }
            },
            "type": "scattergeo"
           }
          ],
          "scattergl": [
           {
            "marker": {
             "colorbar": {
              "outlinewidth": 0,
              "ticks": ""
             }
            },
            "type": "scattergl"
           }
          ],
          "scattermapbox": [
           {
            "marker": {
             "colorbar": {
              "outlinewidth": 0,
              "ticks": ""
             }
            },
            "type": "scattermapbox"
           }
          ],
          "scatterpolar": [
           {
            "marker": {
             "colorbar": {
              "outlinewidth": 0,
              "ticks": ""
             }
            },
            "type": "scatterpolar"
           }
          ],
          "scatterpolargl": [
           {
            "marker": {
             "colorbar": {
              "outlinewidth": 0,
              "ticks": ""
             }
            },
            "type": "scatterpolargl"
           }
          ],
          "scatterternary": [
           {
            "marker": {
             "colorbar": {
              "outlinewidth": 0,
              "ticks": ""
             }
            },
            "type": "scatterternary"
           }
          ],
          "surface": [
           {
            "colorbar": {
             "outlinewidth": 0,
             "ticks": ""
            },
            "colorscale": [
             [
              0,
              "#0d0887"
             ],
             [
              0.1111111111111111,
              "#46039f"
             ],
             [
              0.2222222222222222,
              "#7201a8"
             ],
             [
              0.3333333333333333,
              "#9c179e"
             ],
             [
              0.4444444444444444,
              "#bd3786"
             ],
             [
              0.5555555555555556,
              "#d8576b"
             ],
             [
              0.6666666666666666,
              "#ed7953"
             ],
             [
              0.7777777777777778,
              "#fb9f3a"
             ],
             [
              0.8888888888888888,
              "#fdca26"
             ],
             [
              1,
              "#f0f921"
             ]
            ],
            "type": "surface"
           }
          ],
          "table": [
           {
            "cells": {
             "fill": {
              "color": "#EBF0F8"
             },
             "line": {
              "color": "white"
             }
            },
            "header": {
             "fill": {
              "color": "#C8D4E3"
             },
             "line": {
              "color": "white"
             }
            },
            "type": "table"
           }
          ]
         },
         "layout": {
          "annotationdefaults": {
           "arrowcolor": "#2a3f5f",
           "arrowhead": 0,
           "arrowwidth": 1
          },
          "autotypenumbers": "strict",
          "coloraxis": {
           "colorbar": {
            "outlinewidth": 0,
            "ticks": ""
           }
          },
          "colorscale": {
           "diverging": [
            [
             0,
             "#8e0152"
            ],
            [
             0.1,
             "#c51b7d"
            ],
            [
             0.2,
             "#de77ae"
            ],
            [
             0.3,
             "#f1b6da"
            ],
            [
             0.4,
             "#fde0ef"
            ],
            [
             0.5,
             "#f7f7f7"
            ],
            [
             0.6,
             "#e6f5d0"
            ],
            [
             0.7,
             "#b8e186"
            ],
            [
             0.8,
             "#7fbc41"
            ],
            [
             0.9,
             "#4d9221"
            ],
            [
             1,
             "#276419"
            ]
           ],
           "sequential": [
            [
             0,
             "#0d0887"
            ],
            [
             0.1111111111111111,
             "#46039f"
            ],
            [
             0.2222222222222222,
             "#7201a8"
            ],
            [
             0.3333333333333333,
             "#9c179e"
            ],
            [
             0.4444444444444444,
             "#bd3786"
            ],
            [
             0.5555555555555556,
             "#d8576b"
            ],
            [
             0.6666666666666666,
             "#ed7953"
            ],
            [
             0.7777777777777778,
             "#fb9f3a"
            ],
            [
             0.8888888888888888,
             "#fdca26"
            ],
            [
             1,
             "#f0f921"
            ]
           ],
           "sequentialminus": [
            [
             0,
             "#0d0887"
            ],
            [
             0.1111111111111111,
             "#46039f"
            ],
            [
             0.2222222222222222,
             "#7201a8"
            ],
            [
             0.3333333333333333,
             "#9c179e"
            ],
            [
             0.4444444444444444,
             "#bd3786"
            ],
            [
             0.5555555555555556,
             "#d8576b"
            ],
            [
             0.6666666666666666,
             "#ed7953"
            ],
            [
             0.7777777777777778,
             "#fb9f3a"
            ],
            [
             0.8888888888888888,
             "#fdca26"
            ],
            [
             1,
             "#f0f921"
            ]
           ]
          },
          "colorway": [
           "#636efa",
           "#EF553B",
           "#00cc96",
           "#ab63fa",
           "#FFA15A",
           "#19d3f3",
           "#FF6692",
           "#B6E880",
           "#FF97FF",
           "#FECB52"
          ],
          "font": {
           "color": "#2a3f5f"
          },
          "geo": {
           "bgcolor": "white",
           "lakecolor": "white",
           "landcolor": "#E5ECF6",
           "showlakes": true,
           "showland": true,
           "subunitcolor": "white"
          },
          "hoverlabel": {
           "align": "left"
          },
          "hovermode": "closest",
          "mapbox": {
           "style": "light"
          },
          "paper_bgcolor": "white",
          "plot_bgcolor": "#E5ECF6",
          "polar": {
           "angularaxis": {
            "gridcolor": "white",
            "linecolor": "white",
            "ticks": ""
           },
           "bgcolor": "#E5ECF6",
           "radialaxis": {
            "gridcolor": "white",
            "linecolor": "white",
            "ticks": ""
           }
          },
          "scene": {
           "xaxis": {
            "backgroundcolor": "#E5ECF6",
            "gridcolor": "white",
            "gridwidth": 2,
            "linecolor": "white",
            "showbackground": true,
            "ticks": "",
            "zerolinecolor": "white"
           },
           "yaxis": {
            "backgroundcolor": "#E5ECF6",
            "gridcolor": "white",
            "gridwidth": 2,
            "linecolor": "white",
            "showbackground": true,
            "ticks": "",
            "zerolinecolor": "white"
           },
           "zaxis": {
            "backgroundcolor": "#E5ECF6",
            "gridcolor": "white",
            "gridwidth": 2,
            "linecolor": "white",
            "showbackground": true,
            "ticks": "",
            "zerolinecolor": "white"
           }
          },
          "shapedefaults": {
           "line": {
            "color": "#2a3f5f"
           }
          },
          "ternary": {
           "aaxis": {
            "gridcolor": "white",
            "linecolor": "white",
            "ticks": ""
           },
           "baxis": {
            "gridcolor": "white",
            "linecolor": "white",
            "ticks": ""
           },
           "bgcolor": "#E5ECF6",
           "caxis": {
            "gridcolor": "white",
            "linecolor": "white",
            "ticks": ""
           }
          },
          "title": {
           "x": 0.05
          },
          "xaxis": {
           "automargin": true,
           "gridcolor": "white",
           "linecolor": "white",
           "ticks": "",
           "title": {
            "standoff": 15
           },
           "zerolinecolor": "white",
           "zerolinewidth": 2
          },
          "yaxis": {
           "automargin": true,
           "gridcolor": "white",
           "linecolor": "white",
           "ticks": "",
           "title": {
            "standoff": 15
           },
           "zerolinecolor": "white",
           "zerolinewidth": 2
          }
         }
        },
        "title": {
         "font": {
          "color": "#4D5663"
         }
        },
        "xaxis": {
         "gridcolor": "#E1E5ED",
         "showgrid": true,
         "tickfont": {
          "color": "#4D5663"
         },
         "title": {
          "font": {
           "color": "#4D5663"
          },
          "text": ""
         },
         "zerolinecolor": "#E1E5ED"
        },
        "yaxis": {
         "gridcolor": "#E1E5ED",
         "showgrid": true,
         "tickfont": {
          "color": "#4D5663"
         },
         "title": {
          "font": {
           "color": "#4D5663"
          },
          "text": ""
         },
         "zerolinecolor": "#E1E5ED"
        }
       }
      },
      "text/html": [
       "<div>                            <div id=\"108fc6c9-4c29-4aab-b07b-9a0f373d2cc5\" class=\"plotly-graph-div\" style=\"height:525px; width:100%;\"></div>            <script type=\"text/javascript\">                require([\"plotly\"], function(Plotly) {                    window.PLOTLYENV=window.PLOTLYENV || {};\n",
       "                    window.PLOTLYENV.BASE_URL='https://plot.ly';                                    if (document.getElementById(\"108fc6c9-4c29-4aab-b07b-9a0f373d2cc5\")) {                    Plotly.newPlot(                        \"108fc6c9-4c29-4aab-b07b-9a0f373d2cc5\",                        [{\"marker\":{\"color\":\"rgba(255, 153, 51, 0.6)\",\"line\":{\"color\":\"rgba(255, 153, 51, 1.0)\",\"width\":1}},\"name\":\"RATING\",\"orientation\":\"v\",\"text\":\"\",\"x\":[0.0,3.5,3.4,3.6,3.7,3.3,3.2,3.8,3.1,3.0,3.9,4.0,2.9,4.1,2.8,4.2,2.7,4.3,4.4,2.6,4.5,2.5,4.6,2.4,4.7,2.3,2.1,2.2,4.8,4.9],\"y\":[3276,1063,1015,938,898,892,783,775,716,606,590,405,402,298,298,199,168,148,99,74,46,37,32,25,13,10,5,4,4,2],\"type\":\"bar\"}],                        {\"legend\":{\"bgcolor\":\"#F5F6F9\",\"font\":{\"color\":\"#4D5663\"}},\"paper_bgcolor\":\"#F5F6F9\",\"plot_bgcolor\":\"#F5F6F9\",\"template\":{\"data\":{\"barpolar\":[{\"marker\":{\"line\":{\"color\":\"#E5ECF6\",\"width\":0.5},\"pattern\":{\"fillmode\":\"overlay\",\"size\":10,\"solidity\":0.2}},\"type\":\"barpolar\"}],\"bar\":[{\"error_x\":{\"color\":\"#2a3f5f\"},\"error_y\":{\"color\":\"#2a3f5f\"},\"marker\":{\"line\":{\"color\":\"#E5ECF6\",\"width\":0.5},\"pattern\":{\"fillmode\":\"overlay\",\"size\":10,\"solidity\":0.2}},\"type\":\"bar\"}],\"carpet\":[{\"aaxis\":{\"endlinecolor\":\"#2a3f5f\",\"gridcolor\":\"white\",\"linecolor\":\"white\",\"minorgridcolor\":\"white\",\"startlinecolor\":\"#2a3f5f\"},\"baxis\":{\"endlinecolor\":\"#2a3f5f\",\"gridcolor\":\"white\",\"linecolor\":\"white\",\"minorgridcolor\":\"white\",\"startlinecolor\":\"#2a3f5f\"},\"type\":\"carpet\"}],\"choropleth\":[{\"colorbar\":{\"outlinewidth\":0,\"ticks\":\"\"},\"type\":\"choropleth\"}],\"contourcarpet\":[{\"colorbar\":{\"outlinewidth\":0,\"ticks\":\"\"},\"type\":\"contourcarpet\"}],\"contour\":[{\"colorbar\":{\"outlinewidth\":0,\"ticks\":\"\"},\"colorscale\":[[0.0,\"#0d0887\"],[0.1111111111111111,\"#46039f\"],[0.2222222222222222,\"#7201a8\"],[0.3333333333333333,\"#9c179e\"],[0.4444444444444444,\"#bd3786\"],[0.5555555555555556,\"#d8576b\"],[0.6666666666666666,\"#ed7953\"],[0.7777777777777778,\"#fb9f3a\"],[0.8888888888888888,\"#fdca26\"],[1.0,\"#f0f921\"]],\"type\":\"contour\"}],\"heatmapgl\":[{\"colorbar\":{\"outlinewidth\":0,\"ticks\":\"\"},\"colorscale\":[[0.0,\"#0d0887\"],[0.1111111111111111,\"#46039f\"],[0.2222222222222222,\"#7201a8\"],[0.3333333333333333,\"#9c179e\"],[0.4444444444444444,\"#bd3786\"],[0.5555555555555556,\"#d8576b\"],[0.6666666666666666,\"#ed7953\"],[0.7777777777777778,\"#fb9f3a\"],[0.8888888888888888,\"#fdca26\"],[1.0,\"#f0f921\"]],\"type\":\"heatmapgl\"}],\"heatmap\":[{\"colorbar\":{\"outlinewidth\":0,\"ticks\":\"\"},\"colorscale\":[[0.0,\"#0d0887\"],[0.1111111111111111,\"#46039f\"],[0.2222222222222222,\"#7201a8\"],[0.3333333333333333,\"#9c179e\"],[0.4444444444444444,\"#bd3786\"],[0.5555555555555556,\"#d8576b\"],[0.6666666666666666,\"#ed7953\"],[0.7777777777777778,\"#fb9f3a\"],[0.8888888888888888,\"#fdca26\"],[1.0,\"#f0f921\"]],\"type\":\"heatmap\"}],\"histogram2dcontour\":[{\"colorbar\":{\"outlinewidth\":0,\"ticks\":\"\"},\"colorscale\":[[0.0,\"#0d0887\"],[0.1111111111111111,\"#46039f\"],[0.2222222222222222,\"#7201a8\"],[0.3333333333333333,\"#9c179e\"],[0.4444444444444444,\"#bd3786\"],[0.5555555555555556,\"#d8576b\"],[0.6666666666666666,\"#ed7953\"],[0.7777777777777778,\"#fb9f3a\"],[0.8888888888888888,\"#fdca26\"],[1.0,\"#f0f921\"]],\"type\":\"histogram2dcontour\"}],\"histogram2d\":[{\"colorbar\":{\"outlinewidth\":0,\"ticks\":\"\"},\"colorscale\":[[0.0,\"#0d0887\"],[0.1111111111111111,\"#46039f\"],[0.2222222222222222,\"#7201a8\"],[0.3333333333333333,\"#9c179e\"],[0.4444444444444444,\"#bd3786\"],[0.5555555555555556,\"#d8576b\"],[0.6666666666666666,\"#ed7953\"],[0.7777777777777778,\"#fb9f3a\"],[0.8888888888888888,\"#fdca26\"],[1.0,\"#f0f921\"]],\"type\":\"histogram2d\"}],\"histogram\":[{\"marker\":{\"pattern\":{\"fillmode\":\"overlay\",\"size\":10,\"solidity\":0.2}},\"type\":\"histogram\"}],\"mesh3d\":[{\"colorbar\":{\"outlinewidth\":0,\"ticks\":\"\"},\"type\":\"mesh3d\"}],\"parcoords\":[{\"line\":{\"colorbar\":{\"outlinewidth\":0,\"ticks\":\"\"}},\"type\":\"parcoords\"}],\"pie\":[{\"automargin\":true,\"type\":\"pie\"}],\"scatter3d\":[{\"line\":{\"colorbar\":{\"outlinewidth\":0,\"ticks\":\"\"}},\"marker\":{\"colorbar\":{\"outlinewidth\":0,\"ticks\":\"\"}},\"type\":\"scatter3d\"}],\"scattercarpet\":[{\"marker\":{\"colorbar\":{\"outlinewidth\":0,\"ticks\":\"\"}},\"type\":\"scattercarpet\"}],\"scattergeo\":[{\"marker\":{\"colorbar\":{\"outlinewidth\":0,\"ticks\":\"\"}},\"type\":\"scattergeo\"}],\"scattergl\":[{\"marker\":{\"colorbar\":{\"outlinewidth\":0,\"ticks\":\"\"}},\"type\":\"scattergl\"}],\"scattermapbox\":[{\"marker\":{\"colorbar\":{\"outlinewidth\":0,\"ticks\":\"\"}},\"type\":\"scattermapbox\"}],\"scatterpolargl\":[{\"marker\":{\"colorbar\":{\"outlinewidth\":0,\"ticks\":\"\"}},\"type\":\"scatterpolargl\"}],\"scatterpolar\":[{\"marker\":{\"colorbar\":{\"outlinewidth\":0,\"ticks\":\"\"}},\"type\":\"scatterpolar\"}],\"scatter\":[{\"fillpattern\":{\"fillmode\":\"overlay\",\"size\":10,\"solidity\":0.2},\"type\":\"scatter\"}],\"scatterternary\":[{\"marker\":{\"colorbar\":{\"outlinewidth\":0,\"ticks\":\"\"}},\"type\":\"scatterternary\"}],\"surface\":[{\"colorbar\":{\"outlinewidth\":0,\"ticks\":\"\"},\"colorscale\":[[0.0,\"#0d0887\"],[0.1111111111111111,\"#46039f\"],[0.2222222222222222,\"#7201a8\"],[0.3333333333333333,\"#9c179e\"],[0.4444444444444444,\"#bd3786\"],[0.5555555555555556,\"#d8576b\"],[0.6666666666666666,\"#ed7953\"],[0.7777777777777778,\"#fb9f3a\"],[0.8888888888888888,\"#fdca26\"],[1.0,\"#f0f921\"]],\"type\":\"surface\"}],\"table\":[{\"cells\":{\"fill\":{\"color\":\"#EBF0F8\"},\"line\":{\"color\":\"white\"}},\"header\":{\"fill\":{\"color\":\"#C8D4E3\"},\"line\":{\"color\":\"white\"}},\"type\":\"table\"}]},\"layout\":{\"annotationdefaults\":{\"arrowcolor\":\"#2a3f5f\",\"arrowhead\":0,\"arrowwidth\":1},\"autotypenumbers\":\"strict\",\"coloraxis\":{\"colorbar\":{\"outlinewidth\":0,\"ticks\":\"\"}},\"colorscale\":{\"diverging\":[[0,\"#8e0152\"],[0.1,\"#c51b7d\"],[0.2,\"#de77ae\"],[0.3,\"#f1b6da\"],[0.4,\"#fde0ef\"],[0.5,\"#f7f7f7\"],[0.6,\"#e6f5d0\"],[0.7,\"#b8e186\"],[0.8,\"#7fbc41\"],[0.9,\"#4d9221\"],[1,\"#276419\"]],\"sequential\":[[0.0,\"#0d0887\"],[0.1111111111111111,\"#46039f\"],[0.2222222222222222,\"#7201a8\"],[0.3333333333333333,\"#9c179e\"],[0.4444444444444444,\"#bd3786\"],[0.5555555555555556,\"#d8576b\"],[0.6666666666666666,\"#ed7953\"],[0.7777777777777778,\"#fb9f3a\"],[0.8888888888888888,\"#fdca26\"],[1.0,\"#f0f921\"]],\"sequentialminus\":[[0.0,\"#0d0887\"],[0.1111111111111111,\"#46039f\"],[0.2222222222222222,\"#7201a8\"],[0.3333333333333333,\"#9c179e\"],[0.4444444444444444,\"#bd3786\"],[0.5555555555555556,\"#d8576b\"],[0.6666666666666666,\"#ed7953\"],[0.7777777777777778,\"#fb9f3a\"],[0.8888888888888888,\"#fdca26\"],[1.0,\"#f0f921\"]]},\"colorway\":[\"#636efa\",\"#EF553B\",\"#00cc96\",\"#ab63fa\",\"#FFA15A\",\"#19d3f3\",\"#FF6692\",\"#B6E880\",\"#FF97FF\",\"#FECB52\"],\"font\":{\"color\":\"#2a3f5f\"},\"geo\":{\"bgcolor\":\"white\",\"lakecolor\":\"white\",\"landcolor\":\"#E5ECF6\",\"showlakes\":true,\"showland\":true,\"subunitcolor\":\"white\"},\"hoverlabel\":{\"align\":\"left\"},\"hovermode\":\"closest\",\"mapbox\":{\"style\":\"light\"},\"paper_bgcolor\":\"white\",\"plot_bgcolor\":\"#E5ECF6\",\"polar\":{\"angularaxis\":{\"gridcolor\":\"white\",\"linecolor\":\"white\",\"ticks\":\"\"},\"bgcolor\":\"#E5ECF6\",\"radialaxis\":{\"gridcolor\":\"white\",\"linecolor\":\"white\",\"ticks\":\"\"}},\"scene\":{\"xaxis\":{\"backgroundcolor\":\"#E5ECF6\",\"gridcolor\":\"white\",\"gridwidth\":2,\"linecolor\":\"white\",\"showbackground\":true,\"ticks\":\"\",\"zerolinecolor\":\"white\"},\"yaxis\":{\"backgroundcolor\":\"#E5ECF6\",\"gridcolor\":\"white\",\"gridwidth\":2,\"linecolor\":\"white\",\"showbackground\":true,\"ticks\":\"\",\"zerolinecolor\":\"white\"},\"zaxis\":{\"backgroundcolor\":\"#E5ECF6\",\"gridcolor\":\"white\",\"gridwidth\":2,\"linecolor\":\"white\",\"showbackground\":true,\"ticks\":\"\",\"zerolinecolor\":\"white\"}},\"shapedefaults\":{\"line\":{\"color\":\"#2a3f5f\"}},\"ternary\":{\"aaxis\":{\"gridcolor\":\"white\",\"linecolor\":\"white\",\"ticks\":\"\"},\"baxis\":{\"gridcolor\":\"white\",\"linecolor\":\"white\",\"ticks\":\"\"},\"bgcolor\":\"#E5ECF6\",\"caxis\":{\"gridcolor\":\"white\",\"linecolor\":\"white\",\"ticks\":\"\"}},\"title\":{\"x\":0.05},\"xaxis\":{\"automargin\":true,\"gridcolor\":\"white\",\"linecolor\":\"white\",\"ticks\":\"\",\"title\":{\"standoff\":15},\"zerolinecolor\":\"white\",\"zerolinewidth\":2},\"yaxis\":{\"automargin\":true,\"gridcolor\":\"white\",\"linecolor\":\"white\",\"ticks\":\"\",\"title\":{\"standoff\":15},\"zerolinecolor\":\"white\",\"zerolinewidth\":2}}},\"title\":{\"font\":{\"color\":\"#4D5663\"}},\"xaxis\":{\"gridcolor\":\"#E1E5ED\",\"showgrid\":true,\"tickfont\":{\"color\":\"#4D5663\"},\"title\":{\"font\":{\"color\":\"#4D5663\"},\"text\":\"\"},\"zerolinecolor\":\"#E1E5ED\"},\"yaxis\":{\"gridcolor\":\"#E1E5ED\",\"showgrid\":true,\"tickfont\":{\"color\":\"#4D5663\"},\"title\":{\"font\":{\"color\":\"#4D5663\"},\"text\":\"\"},\"zerolinecolor\":\"#E1E5ED\"}},                        {\"showLink\": true, \"linkText\": \"Export to plot.ly\", \"plotlyServerURL\": \"https://plot.ly\", \"responsive\": true}                    ).then(function(){\n",
       "                            \n",
       "var gd = document.getElementById('108fc6c9-4c29-4aab-b07b-9a0f373d2cc5');\n",
       "var x = new MutationObserver(function (mutations, observer) {{\n",
       "        var display = window.getComputedStyle(gd).display;\n",
       "        if (!display || display === 'none') {{\n",
       "            console.log([gd, 'removed!']);\n",
       "            Plotly.purge(gd);\n",
       "            observer.disconnect();\n",
       "        }}\n",
       "}});\n",
       "\n",
       "// Listen for the removal of the full notebook cells\n",
       "var notebookContainer = gd.closest('#notebook-container');\n",
       "if (notebookContainer) {{\n",
       "    x.observe(notebookContainer, {childList: true});\n",
       "}}\n",
       "\n",
       "// Listen for the clearing of the current output cell\n",
       "var outputEl = gd.closest('.output');\n",
       "if (outputEl) {{\n",
       "    x.observe(outputEl, {childList: true});\n",
       "}}\n",
       "\n",
       "                        })                };                });            </script>        </div>"
      ]
     },
     "metadata": {},
     "output_type": "display_data"
    }
   ],
   "source": [
    "df.RATING.value_counts().head(30).iplot(kind=\"bar\")"
   ]
  },
  {
   "cell_type": "code",
   "execution_count": 36,
   "id": "e781c40a",
   "metadata": {},
   "outputs": [
    {
     "data": {
      "image/png": "[encoded data removed]",
      "text/plain": [
       "<Figure size 600x600 with 1 Axes>"
      ]
     },
     "metadata": {},
     "output_type": "display_data"
    }
   ],
   "source": [
    "#Plotting Graph for percentage of restaurants as per ratings\n",
    "x = df['RATING'].value_counts().index\n",
    "y = df['RATING'].value_counts().values\n",
    "plt.figure(figsize=(6, 6))\n",
    "plt.pie(y,labels=x,colors=['#B7C3F3', '#DD7596', '#8EB897'],autopct='%1.2f%%')\n",
    "plt.title(\"Rating of Restaurants\")\n",
    "plt.show()"
   ]
  },
  {
   "cell_type": "code",
   "execution_count": null,
   "id": "4d6d7893",
   "metadata": {},
   "outputs": [],
   "source": []
  }
 ],
 "metadata": {
  "kernelspec": {
   "display_name": "Python 3 (ipykernel)",
   "language": "python",
   "name": "python3"
  },
  "language_info": {
   "codemirror_mode": {
    "name": "ipython",
    "version": 3
   },
   "file_extension": ".py",
   "mimetype": "text/x-python",
   "name": "python",
   "nbconvert_exporter": "python",
   "pygments_lexer": "ipython3",
   "version": "3.10.11"
  }
 },
 "nbformat": 4,
 "nbformat_minor": 5
}
